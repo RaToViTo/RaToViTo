{
 "cells": [
  {
   "cell_type": "markdown",
   "metadata": {},
   "source": [
    "## Radiotoxicity chart tool\n",
    "### Inventory-based Spent Fuel Simulation"
   ]
  },
  {
   "cell_type": "markdown",
   "metadata": {},
   "source": [
    "### 1. Intialization"
   ]
  },
  {
   "cell_type": "code",
   "execution_count": null,
   "metadata": {
    "hide_input": true
   },
   "outputs": [],
   "source": [
    "# Imports\n",
    "import sys\n",
    "import importlib\n",
    "import numpy as np\n",
    "from pathlib import Path\n",
    "\n",
    "#Project directories\n",
    "sys.path.append(str(Path().resolve() / \"Backend\" / \"Inventory-based Spent Fuel Simulation\"))\n",
    "import find_project_root_inv\n",
    "importlib.reload(find_project_root_inv)\n",
    "from find_project_root_inv import find_project_root_inv\n",
    "project_root = find_project_root_inv()\n",
    "backend_path = project_root / \"Backend\"\n",
    "main_output_dir = project_root / \"Simulation results\""
   ]
  },
  {
   "cell_type": "code",
   "execution_count": null,
   "metadata": {
    "hide_input": true
   },
   "outputs": [],
   "source": [
    "# Resource file Paths\n",
    "excel_file_fuel = project_root / \"Resources\" / \"SpentFuel_Data.xlsx\"\n",
    "excel_file_DC = project_root / \"Resources\" / \"Dose coefficients.xlsx\"\n",
    "chain_file = project_root / \"Resources\" / \"chain_endfb71_pwr.xml\""
   ]
  },
  {
   "cell_type": "code",
   "execution_count": null,
   "metadata": {
    "hide_input": true
   },
   "outputs": [],
   "source": [
    "# Reactor selection\n",
    "selected_sheet = \"B.7 - UO2\"\n",
    "\n",
    "# DC selection\n",
    "selected_DC = \"Adults\""
   ]
  },
  {
   "cell_type": "markdown",
   "metadata": {},
   "source": [
    "### 2. Simulation of Spent Fuel Inventory Decay (only needed if RT data not already existing)"
   ]
  },
  {
   "cell_type": "code",
   "execution_count": null,
   "metadata": {
    "hide_input": true
   },
   "outputs": [],
   "source": [
    "# Time steps\n",
    "time_steps = np.concatenate((\n",
    "    np.logspace(0, 3, num=80),   # 1 to nearly 1000\n",
    "    np.logspace(3, 6, num=40)    # from 1000 to 1e6\n",
    "))"
   ]
  },
  {
   "cell_type": "code",
   "execution_count": null,
   "metadata": {
    "hide_input": true,
    "scrolled": true
   },
   "outputs": [],
   "source": [
    "# Run Simulaiton\n",
    "from simulation_inv import simulation_inv\n",
    "simulation_inv(project_root, main_output_dir, excel_file_fuel, time_steps, selected_sheet, selected_DC, chain_file)"
   ]
  },
  {
   "cell_type": "markdown",
   "metadata": {},
   "source": [
    "### 3. Select Data Path (Plot Input Data/ RT Calculation Input Data and Output Path)"
   ]
  },
  {
   "cell_type": "code",
   "execution_count": null,
   "metadata": {
    "hide_input": true,
    "scrolled": true
   },
   "outputs": [],
   "source": [
    "# Show file chooser\n",
    "from file_chooser_inv import file_chooser_inv\n",
    "chooser = file_chooser_inv(main_output_dir)"
   ]
  },
  {
   "cell_type": "code",
   "execution_count": null,
   "metadata": {
    "hide_input": true,
    "scrolled": true
   },
   "outputs": [],
   "source": [
    "# Debug selected path\n",
    "print(\"Selected path:\", chooser.selected_path)"
   ]
  },
  {
   "cell_type": "markdown",
   "metadata": {},
   "source": [
    "### 4. Radiotoxicity calculation (only needed if RT data not already existing)"
   ]
  },
  {
   "cell_type": "code",
   "execution_count": null,
   "metadata": {
    "hide_input": true
   },
   "outputs": [],
   "source": [
    "# Run RT calculation\n",
    "from RT_calc_inv import RT_calc_inv\n",
    "RT_results = RT_calc_inv(chooser, excel_file_DC, selected_DC, excel_file_fuel, selected_sheet)"
   ]
  },
  {
   "cell_type": "markdown",
   "metadata": {},
   "source": [
    "### 5. Plotting"
   ]
  },
  {
   "cell_type": "markdown",
   "metadata": {},
   "source": [
    "### 5.1 Plot configuration"
   ]
  },
  {
   "cell_type": "code",
   "execution_count": null,
   "metadata": {
    "hide_input": true
   },
   "outputs": [],
   "source": [
    "save_plot = False"
   ]
  },
  {
   "cell_type": "code",
   "execution_count": null,
   "metadata": {
    "hide_input": true
   },
   "outputs": [],
   "source": [
    "# Cooling time/Data offset\n",
    "offset = 0"
   ]
  },
  {
   "cell_type": "code",
   "execution_count": null,
   "metadata": {
    "hide_input": true
   },
   "outputs": [],
   "source": [
    "# Plot settings\n",
    "plot_config = {\n",
    "\n",
    "    #Graph linestyle\n",
    "    \"linewidth\" : 2.0,\n",
    "\n",
    "    #Figure size\n",
    "    \"fig_width\" : 12,\n",
    "    \"fig_height\" : 7,\n",
    "\n",
    "    #Axis\n",
    "    \"plot_axis_range_x\" : [1e0, 1e6],\n",
    "    \"plot_axis_range_y\" : [1e0, 1e11],\n",
    "\n",
    "    \"xticks_fontsize\" : 12,\n",
    "    \"yticks_fontsize\" : 12,\n",
    "\n",
    "    #Titles\n",
    "    \"plot_title\" : f\"Radiotoxicity of Spent Fuel (inventory-based)\", #no slashes allowed\n",
    "\n",
    "    \"plot_subtitle\" : \"SF at discharge, UO2, 4.5%, 65 GWd/t, Adults\",\n",
    "\n",
    "    \"plot_xlabel\" : \"Time (years)\",\n",
    "    \"plot_ylabel\" : \"Radiotoxicity [Sv/t$_{IHM}$]\",\n",
    "\n",
    "    #Footnote\n",
    "    \"show_footnote\" : True,\n",
    "    \"footnote_text\" : \"IHM = Initial Heavy Metal\\nSF = Spent Fuel\",\n",
    "\n",
    "    #Font name and sizes\n",
    "    \"font_name\" : 'DejaVu Sans',\n",
    "    \"title_fontsize\" : 14,\n",
    "    \"label_fontsize\" : 13,\n",
    "    \"legend_fontsize\" : 12,\n",
    "    \"subtitle_fontsize\" : 12,\n",
    "\n",
    "    #Legend location\n",
    "    \"show_legend\" : True,\n",
    "    \"plot_legend_loc\" : 'upper right',\n",
    "    \"legend_outside\" : False,  #False = inside \n",
    "\n",
    "    #Grid\n",
    "    \"plot_grid_show\" : True,\n",
    "    \"plot_grid_which\" : 'major',\n",
    "    \"plot_grid_linestyle\" : '--',\n",
    "    \"plot_grid_linewidth\" : 0.5,\n",
    "\n",
    "    #resolution\n",
    "    \"dpi\" : 300,\n",
    "}"
   ]
  },
  {
   "cell_type": "code",
   "execution_count": null,
   "metadata": {
    "hide_input": true
   },
   "outputs": [],
   "source": [
    "# Show UI\n",
    "from plot_UI_inv import plot_UI_inv\n",
    "checkboxes, color_pickers, isotope_textboxes, isotope_colors = plot_UI_inv()"
   ]
  },
  {
   "cell_type": "code",
   "execution_count": null,
   "metadata": {
    "hide_input": true
   },
   "outputs": [],
   "source": [
    "# Reference value configuration\n",
    "ref_values = {\n",
    "    \"ref_value1\": 256000,    #Ref value for 8.41t of natural U in equlibrium with its daughter products (ingestion/adults)\n",
    "    #\"ref_value2\": ...\n",
    "}\n",
    "    \n",
    "ref_config = {\n",
    "    \"ref_value1\": {\"label\": \"Natural Uranium (8.41t)\", \"linestyle\": \"--\", \"linewidth\": 2, \"color\": \"#ee0000\"},\n",
    "    #\"ref_value2\": ...\n",
    "    \n",
    "    \"legend_bbox_anchor\": (1.287, 1),  #horizontal position of legend if outside\n",
    "}"
   ]
  },
  {
   "cell_type": "markdown",
   "metadata": {},
   "source": [
    "### 5.2 Plot chart"
   ]
  },
  {
   "cell_type": "code",
   "execution_count": null,
   "metadata": {
    "hide_input": true
   },
   "outputs": [],
   "source": [
    "# Plot\n",
    "from plot_inv import plot_inv\n",
    "decay_isotopes, all_isotopes_in_RT, group_isotopes, fission_isotopes = plot_inv(project_root, chooser, checkboxes, color_pickers, isotope_textboxes, isotope_colors, excel_file_fuel, selected_sheet, selected_DC, save_plot, offset, ref_values, ref_config, plot_config)"
   ]
  },
  {
   "cell_type": "markdown",
   "metadata": {},
   "source": [
    "#### Show concentrations"
   ]
  },
  {
   "cell_type": "code",
   "execution_count": null,
   "metadata": {
    "hide_input": true
   },
   "outputs": [],
   "source": [
    "from debug_read_conc import debug_read_conc\n",
    "debug_read_conc(chooser)"
   ]
  },
  {
   "cell_type": "markdown",
   "metadata": {
    "collapsed": true,
    "hide_input": true,
    "jupyter": {
     "outputs_hidden": true
    }
   },
   "source": [
    "#### Show radiotoxicities"
   ]
  },
  {
   "cell_type": "code",
   "execution_count": null,
   "metadata": {
    "hide_input": true
   },
   "outputs": [],
   "source": [
    "def format_float_list(values, precision=4):\n",
    "    return \", \".join(f\"{v:.{precision}e}\" for v in values)\n",
    "\n",
    "print(\"\\nRT values computed:\")\n",
    "for nuclide, rt in RT_results.items():\n",
    "    print(f\"{nuclide}: [{format_float_list(rt)}]\")"
   ]
  },
  {
   "cell_type": "markdown",
   "metadata": {},
   "source": [
    "#### Show Isotopes considered Decay Products"
   ]
  },
  {
   "cell_type": "code",
   "execution_count": null,
   "metadata": {
    "hide_input": true
   },
   "outputs": [],
   "source": [
    "decay_isotopes = list(all_isotopes_in_RT - group_isotopes - set(fission_isotopes))\n",
    "\n",
    "print(\"Isotopes considered Decay Products\")\n",
    "print(f\"Count: {len(decay_isotopes)}\")\n",
    "print(\"Isotopes: \" + \", \".join(decay_isotopes))\n"
   ]
  }
 ],
 "metadata": {
  "kernelspec": {
   "display_name": "Python 3 (ipykernel)",
   "language": "python",
   "name": "python3"
  },
  "language_info": {
   "codemirror_mode": {
    "name": "ipython",
    "version": 3
   },
   "file_extension": ".py",
   "mimetype": "text/x-python",
   "name": "python",
   "nbconvert_exporter": "python",
   "pygments_lexer": "ipython3",
   "version": "3.10.18"
  }
 },
 "nbformat": 4,
 "nbformat_minor": 4
}
