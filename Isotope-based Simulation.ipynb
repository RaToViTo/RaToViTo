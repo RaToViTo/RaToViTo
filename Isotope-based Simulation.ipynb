{
 "cells": [
  {
   "cell_type": "markdown",
   "metadata": {},
   "source": [
    "## Radiotoxicity chart tool\n",
    "### Isotope-based Spent Fuel Simulation"
   ]
  },
  {
   "cell_type": "markdown",
   "metadata": {},
   "source": [
    "### 1. Initialization"
   ]
  },
  {
   "cell_type": "code",
   "execution_count": null,
   "metadata": {
    "hide_input": true
   },
   "outputs": [],
   "source": [
    "# Imports\n",
    "import sys\n",
    "import importlib\n",
    "import numpy as np\n",
    "from pathlib import Path\n",
    "\n",
    "#Project directories\n",
    "sys.path.append(str(Path().resolve() / \"Backend\" / \"Isotope-based Spent Fuel Simulation\"))\n",
    "import find_project_root\n",
    "importlib.reload(find_project_root)\n",
    "from find_project_root import find_project_root\n",
    "project_root = find_project_root()\n",
    "\n",
    "backend_path = project_root / \"Backend\"\n",
    "main_output_dir = project_root / \"Simulation results\""
   ]
  },
  {
   "cell_type": "code",
   "execution_count": null,
   "metadata": {
    "hide_input": true
   },
   "outputs": [],
   "source": [
    "#Resource file Paths\n",
    "excel_file_fuel = project_root / \"Resources\" / \"SpentFuel_Data.xlsx\"\n",
    "excel_file_DC = project_root / \"Resources\" / \"Dose coefficients.xlsx\"\n",
    "\n",
    "chain_file = project_root / \"Resources\" / \"chain_endfb71_pwr.xml\""
   ]
  },
  {
   "cell_type": "code",
   "execution_count": null,
   "metadata": {
    "hide_input": true
   },
   "outputs": [],
   "source": [
    "#Reactor selection\n",
    "selected_sheet = \"B.13 - MOX\"\n",
    "\n",
    "#DC selection\n",
    "selected_DC = \"Adults\" #Adults or Infants"
   ]
  },
  {
   "cell_type": "markdown",
   "metadata": {},
   "source": [
    "### 2. Simulation of Spent Fuel Isotopes Decay (only needed if concentration data not already existing)"
   ]
  },
  {
   "cell_type": "code",
   "execution_count": null,
   "metadata": {
    "hide_input": true,
    "jupyter": {
     "outputs_hidden": true
    }
   },
   "outputs": [],
   "source": [
    "# Time steps\n",
    "time_steps = np.concatenate((\n",
    "    np.logspace(0, 3, num=80, endpoint=False),  # 1 to nearly 1000\n",
    "    np.logspace(3, 6, num=40)                  # from 1000 to 1e6\n",
    "))"
   ]
  },
  {
   "cell_type": "code",
   "execution_count": null,
   "metadata": {
    "hide_input": true,
    "jupyter": {
     "outputs_hidden": true
    },
    "scrolled": true
   },
   "outputs": [],
   "source": [
    "#Run Simulation\n",
    "from simulation import simulation\n",
    "simulation(project_root, main_output_dir, excel_file_fuel, time_steps, selected_sheet, selected_DC, chain_file)"
   ]
  },
  {
   "cell_type": "markdown",
   "metadata": {},
   "source": [
    "### 3. Select Data Path (Plot Input Data/ RT Calculation Input Data and Output Path)"
   ]
  },
  {
   "cell_type": "code",
   "execution_count": null,
   "metadata": {
    "hide_input": true
   },
   "outputs": [],
   "source": [
    "#Show file chooser\n",
    "from file_chooser import file_chooser\n",
    "chooser = file_chooser(main_output_dir)"
   ]
  },
  {
   "cell_type": "code",
   "execution_count": null,
   "metadata": {
    "hide_input": true
   },
   "outputs": [],
   "source": [
    "#Show selected path\n",
    "print(\"Selected path:\", chooser.selected_path)"
   ]
  },
  {
   "cell_type": "markdown",
   "metadata": {},
   "source": [
    "### 4. Radiotoxicity calculation (only needed if RT data not already existing)"
   ]
  },
  {
   "cell_type": "code",
   "execution_count": null,
   "metadata": {
    "hide_input": true,
    "jupyter": {
     "outputs_hidden": true
    }
   },
   "outputs": [],
   "source": [
    "#Run RT calculation\n",
    "from RT_calculation import RT_calculation\n",
    "rt_data = RT_calculation(chooser, excel_file_fuel, selected_sheet, excel_file_DC, selected_DC)"
   ]
  },
  {
   "cell_type": "markdown",
   "metadata": {},
   "source": [
    "### 5. Plotting"
   ]
  },
  {
   "cell_type": "markdown",
   "metadata": {},
   "source": [
    "### 5.1 Plot configuration"
   ]
  },
  {
   "cell_type": "code",
   "execution_count": null,
   "metadata": {
    "hide_input": true
   },
   "outputs": [],
   "source": [
    "save_plot = False"
   ]
  },
  {
   "cell_type": "code",
   "execution_count": null,
   "metadata": {
    "hide_input": true
   },
   "outputs": [],
   "source": [
    "#Cooling time/Data offset\n",
    "offset = 0"
   ]
  },
  {
   "cell_type": "code",
   "execution_count": null,
   "metadata": {
    "hide_input": true
   },
   "outputs": [],
   "source": [
    "#Graph settings\n",
    "plot_config = {\n",
    "\n",
    "    #Graph linestyle\n",
    "    \"linewidth\" : 2.0,\n",
    "\n",
    "    #Figure size\n",
    "    \"fig_width\" : 12,\n",
    "    \"fig_height\" : 7,\n",
    "\n",
    "    #Axis\n",
    "    \"plot_axis_range_x\" : [1e0, 1e6],\n",
    "    \"plot_axis_range_y\" : [1e0, 1e11],\n",
    "\n",
    "    \"xticks_fontsize\" : 12,\n",
    "    \"yticks_fontsize\" : 12,\n",
    "\n",
    "    #Titles\n",
    "    \"plot_title\" : f\"Radiotoxicity of Spent Fuel incl. Decay Products\", #no slashes allowed\n",
    "\n",
    "    \"plot_subtitle\" : \"SF at discharge, MOX, 65 GWd/t, Adults\",\n",
    "    #\"plot_subtitle\" : \"SF at discharge, UO2, 4.5%, 65 GWd/t, Adults\",\n",
    "\n",
    "    \"plot_xlabel\" : \"Time (years)\",\n",
    "    \"plot_ylabel\" : \"Radiotoxicity [Sv/t$_{IHM}$]\",\n",
    "\n",
    "    #Footnote\n",
    "    \"show_footnote\" : True,\n",
    "    \"footnote_text\" : \"IHM = Initial Heavy Metal\\nSF = Spent Fuel\\nPart. eff.s: U = 99.9%, Pu = 99.5%, MA = 99.95%\",\n",
    "\n",
    "    #Font name and sizes\n",
    "    \"font_name\" : 'DejaVu Sans',\n",
    "    \"title_fontsize\" : 14,\n",
    "    \"label_fontsize\" : 13,\n",
    "    \"legend_fontsize\" : 12,\n",
    "    \"subtitle_fontsize\" : 12,\n",
    "\n",
    "    #Legend location\n",
    "    \"show_legend\" : True,\n",
    "    \"plot_legend_loc\" : 'upper right',\n",
    "    \"legend_outside\" : False,  #False = inside\n",
    "\n",
    "    #Grid\n",
    "    \"plot_grid_show\" : True,\n",
    "    \"plot_grid_which\" : 'major',\n",
    "    \"plot_grid_linestyle\" : '--',\n",
    "    \"plot_grid_linewidth\" : 0.5,\n",
    "\n",
    "    #resolution\n",
    "    \"dpi\" : 300,\n",
    "}"
   ]
  },
  {
   "cell_type": "code",
   "execution_count": null,
   "metadata": {
    "hide_input": true
   },
   "outputs": [],
   "source": [
    "# Show UI & checkbox for additional FP curve\n",
    "from plot_UI import plot_UI\n",
    "checkboxes, color_pickers = plot_UI(chooser)\n",
    "\n",
    "from show_fp2 import show_fp2\n",
    "show_fp2()"
   ]
  },
  {
   "cell_type": "code",
   "execution_count": null,
   "metadata": {
    "hide_input": true
   },
   "outputs": [],
   "source": [
    "# Reference value configuration\n",
    "ref_values = {\n",
    "    \"ref_value1\": 256000,  #Ref value for 8.41t of natural U in equlibrium with its daughter products (ingestion/adults)\n",
    "    #\"ref_value2\": ...\n",
    "}\n",
    "    \n",
    "ref_config = {\n",
    "    \"ref_value1\": {\"label\": \"Natural Uranium (8.41t)\", \"linestyle\": \"--\", \"linewidth\": 2, \"color\": \"#ee0000\"},\n",
    "    #\"ref_value2\": ...\n",
    "    \"legend_bbox_anchor\": (1.287, 1),  #horizontal position of legend if outside\n",
    "}"
   ]
  },
  {
   "cell_type": "markdown",
   "metadata": {},
   "source": [
    "### 5.2 Plot chart"
   ]
  },
  {
   "cell_type": "code",
   "execution_count": null,
   "metadata": {
    "hide_input": true
   },
   "outputs": [],
   "source": [
    "# Plot\n",
    "from plot import plot\n",
    "plot(chooser, checkboxes, color_pickers, excel_file_fuel, selected_sheet, selected_DC, save_plot, offset, plot_config, ref_values, ref_config,\n",
    "             \n",
    "             partition_eff_u=1, partition_eff_pu=0.995, partition_eff_ma=1, #set partiotionig efficiencies\n",
    "             \n",
    "             show_fp2=show_fp2_checkbox.value, second_fp_path=fp2_chooser.selected_path, fp2_colorpicker=fp2_colorpicker, fp2_label=fp2_label)"
   ]
  },
  {
   "cell_type": "markdown",
   "metadata": {},
   "source": [
    "#### Read concentrations of parent nuclide & decay products"
   ]
  },
  {
   "cell_type": "code",
   "execution_count": null,
   "metadata": {
    "hide_input": true,
    "jupyter": {
     "outputs_hidden": true
    }
   },
   "outputs": [],
   "source": [
    "target_nuclide_1 = \"H3\" #change to desired nuclide"
   ]
  },
  {
   "cell_type": "code",
   "execution_count": null,
   "metadata": {
    "hide_input": true,
    "jupyter": {
     "outputs_hidden": true
    }
   },
   "outputs": [],
   "source": [
    "from read_conc_parent_DPs import read_conc_parent_DPs\n",
    "read_conc_parent_DPs(chooser, target_nuclide_1)"
   ]
  },
  {
   "cell_type": "markdown",
   "metadata": {},
   "source": [
    "#### Read nuclide concentration across all parent nuclides"
   ]
  },
  {
   "cell_type": "code",
   "execution_count": null,
   "metadata": {
    "hide_input": true,
    "jupyter": {
     "outputs_hidden": true
    }
   },
   "outputs": [],
   "source": [
    "target_nuclide_2 = \"I129\" #change to desired nuclide"
   ]
  },
  {
   "cell_type": "code",
   "execution_count": null,
   "metadata": {
    "hide_input": true,
    "jupyter": {
     "outputs_hidden": true
    }
   },
   "outputs": [],
   "source": [
    "from read_nuc_conc_across import read_nuc_conc_across\n",
    "read_nuc_conc_across(chooser, target_nuclide_2)"
   ]
  },
  {
   "cell_type": "markdown",
   "metadata": {},
   "source": [
    "#### Read RTs"
   ]
  },
  {
   "cell_type": "code",
   "execution_count": null,
   "metadata": {
    "hide_input": true,
    "jupyter": {
     "outputs_hidden": true
    }
   },
   "outputs": [],
   "source": [
    "from read_RTs import read_RTs\n",
    "read_RTs(chooser)"
   ]
  }
 ],
 "metadata": {
  "kernelspec": {
   "display_name": "Python 3 (ipykernel)",
   "language": "python",
   "name": "python3"
  },
  "language_info": {
   "codemirror_mode": {
    "name": "ipython",
    "version": 3
   },
   "file_extension": ".py",
   "mimetype": "text/x-python",
   "name": "python",
   "nbconvert_exporter": "python",
   "pygments_lexer": "ipython3",
   "version": "3.10.15"
  }
 },
 "nbformat": 4,
 "nbformat_minor": 4
}
